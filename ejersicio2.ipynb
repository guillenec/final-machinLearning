{
 "cells": [
  {
   "cell_type": "markdown",
   "metadata": {},
   "source": [
    "## Parte 2\n",
    "\n",
    "* Realizar una ingesta de datos de un archivo formato .csv utilizando la librería de Pandas - esto es crear una variable y usando pandas añadir un csv.\n",
    "\n",
    "* link de interés para la descarga gratuita de datasets.\n",
    "[Enlace bases de datos gratuitas:](https://www.kaggle.com/datasets)\n",
    "\n"
   ]
  },
  {
   "cell_type": "code",
   "execution_count": 1,
   "metadata": {},
   "outputs": [
    {
     "name": "stdout",
     "output_type": "stream",
     "text": [
      "hola\n"
     ]
    }
   ],
   "source": [
    "print(\"hola\")"
   ]
  },
  {
   "cell_type": "code",
   "execution_count": 2,
   "metadata": {},
   "outputs": [],
   "source": [
    "#ingesta de datos en una variable\n",
    "import pandas as pd\n",
    "\n",
    "# dataFrame = pd.read_csv('./clasicos.csv', sep = \",\")\n",
    "dataFrame = pd.read_csv('./artists.csv', sep = \",\")\n"
   ]
  },
  {
   "cell_type": "code",
   "execution_count": 4,
   "metadata": {},
   "outputs": [
    {
     "data": {
      "text/html": [
       "<div>\n",
       "<style scoped>\n",
       "    .dataframe tbody tr th:only-of-type {\n",
       "        vertical-align: middle;\n",
       "    }\n",
       "\n",
       "    .dataframe tbody tr th {\n",
       "        vertical-align: top;\n",
       "    }\n",
       "\n",
       "    .dataframe thead th {\n",
       "        text-align: right;\n",
       "    }\n",
       "</style>\n",
       "<table border=\"1\" class=\"dataframe\">\n",
       "  <thead>\n",
       "    <tr style=\"text-align: right;\">\n",
       "      <th></th>\n",
       "      <th>Artist</th>\n",
       "      <th>Streams</th>\n",
       "      <th>Daily</th>\n",
       "      <th>As lead</th>\n",
       "      <th>Solo</th>\n",
       "      <th>As feature</th>\n",
       "    </tr>\n",
       "  </thead>\n",
       "  <tbody>\n",
       "    <tr>\n",
       "      <th>0</th>\n",
       "      <td>Drake</td>\n",
       "      <td>85,041.3</td>\n",
       "      <td>50.775</td>\n",
       "      <td>57,252.6</td>\n",
       "      <td>32,681.6</td>\n",
       "      <td>27,788.7</td>\n",
       "    </tr>\n",
       "    <tr>\n",
       "      <th>1</th>\n",
       "      <td>Bad Bunny</td>\n",
       "      <td>67,533.0</td>\n",
       "      <td>44.820</td>\n",
       "      <td>40,969.6</td>\n",
       "      <td>23,073.0</td>\n",
       "      <td>26,563.4</td>\n",
       "    </tr>\n",
       "    <tr>\n",
       "      <th>2</th>\n",
       "      <td>Taylor Swift</td>\n",
       "      <td>57,859.0</td>\n",
       "      <td>85.793</td>\n",
       "      <td>55,566.7</td>\n",
       "      <td>50,425.7</td>\n",
       "      <td>2,292.4</td>\n",
       "    </tr>\n",
       "    <tr>\n",
       "      <th>3</th>\n",
       "      <td>The Weeknd</td>\n",
       "      <td>53,665.2</td>\n",
       "      <td>44.437</td>\n",
       "      <td>42,673.3</td>\n",
       "      <td>31,164.2</td>\n",
       "      <td>10,991.9</td>\n",
       "    </tr>\n",
       "    <tr>\n",
       "      <th>4</th>\n",
       "      <td>Ed Sheeran</td>\n",
       "      <td>47,907.7</td>\n",
       "      <td>17.506</td>\n",
       "      <td>42,767.9</td>\n",
       "      <td>33,917.0</td>\n",
       "      <td>5,139.8</td>\n",
       "    </tr>\n",
       "  </tbody>\n",
       "</table>\n",
       "</div>"
      ],
      "text/plain": [
       "         Artist   Streams   Daily   As lead      Solo As feature\n",
       "0         Drake  85,041.3  50.775  57,252.6  32,681.6   27,788.7\n",
       "1     Bad Bunny  67,533.0  44.820  40,969.6  23,073.0   26,563.4\n",
       "2  Taylor Swift  57,859.0  85.793  55,566.7  50,425.7    2,292.4\n",
       "3    The Weeknd  53,665.2  44.437  42,673.3  31,164.2   10,991.9\n",
       "4    Ed Sheeran  47,907.7  17.506  42,767.9  33,917.0    5,139.8"
      ]
     },
     "execution_count": 4,
     "metadata": {},
     "output_type": "execute_result"
    }
   ],
   "source": [
    "#imprimimos las primeras 5 filas de la variable df\n",
    "dataFrame.head(5)"
   ]
  },
  {
   "cell_type": "markdown",
   "metadata": {},
   "source": [
    "# datos obtenidos:\n",
    "* **Artist:** Representa el nombre del artista o músico.\n",
    "* **Streams:** número total de streams (reproducciones) que ha recibido la música del artista.\n",
    "* **Daily:** métrica diaria relacionada con las reproducciones de la música del artista.\n",
    "+ **As lead:** número de reproducciones en las que el artista actuó como líder principal en una canción.\n",
    "* **Solo:** número de reproducciones en las que el artista actuó en solitario, sin colaboradores.\n",
    "* **As feature:** número de reproducciones en las que el artista participó como característica especial o colaborador en canciones de otros artistas."
   ]
  },
  {
   "cell_type": "code",
   "execution_count": 6,
   "metadata": {},
   "outputs": [
    {
     "data": {
      "text/html": [
       "<div>\n",
       "<style scoped>\n",
       "    .dataframe tbody tr th:only-of-type {\n",
       "        vertical-align: middle;\n",
       "    }\n",
       "\n",
       "    .dataframe tbody tr th {\n",
       "        vertical-align: top;\n",
       "    }\n",
       "\n",
       "    .dataframe thead th {\n",
       "        text-align: right;\n",
       "    }\n",
       "</style>\n",
       "<table border=\"1\" class=\"dataframe\">\n",
       "  <thead>\n",
       "    <tr style=\"text-align: right;\">\n",
       "      <th></th>\n",
       "      <th>Artist</th>\n",
       "      <th>Streams</th>\n",
       "      <th>Daily</th>\n",
       "      <th>As lead</th>\n",
       "      <th>Solo</th>\n",
       "      <th>As feature</th>\n",
       "    </tr>\n",
       "  </thead>\n",
       "  <tbody>\n",
       "    <tr>\n",
       "      <th>2995</th>\n",
       "      <td>Vicente Garcia</td>\n",
       "      <td>729.9</td>\n",
       "      <td>0.397</td>\n",
       "      <td>542.2</td>\n",
       "      <td>434.8</td>\n",
       "      <td>187.6</td>\n",
       "    </tr>\n",
       "    <tr>\n",
       "      <th>2996</th>\n",
       "      <td>Yasin</td>\n",
       "      <td>729.6</td>\n",
       "      <td>0.573</td>\n",
       "      <td>645.9</td>\n",
       "      <td>542.0</td>\n",
       "      <td>83.6</td>\n",
       "    </tr>\n",
       "    <tr>\n",
       "      <th>2997</th>\n",
       "      <td>Vedo</td>\n",
       "      <td>729.4</td>\n",
       "      <td>0.284</td>\n",
       "      <td>718.2</td>\n",
       "      <td>607.6</td>\n",
       "      <td>11.1</td>\n",
       "    </tr>\n",
       "    <tr>\n",
       "      <th>2998</th>\n",
       "      <td>Kings of Convenience</td>\n",
       "      <td>728.6</td>\n",
       "      <td>0.252</td>\n",
       "      <td>728.6</td>\n",
       "      <td>618.9</td>\n",
       "      <td>NaN</td>\n",
       "    </tr>\n",
       "    <tr>\n",
       "      <th>2999</th>\n",
       "      <td>Ayra Starr</td>\n",
       "      <td>728.6</td>\n",
       "      <td>1.881</td>\n",
       "      <td>418.4</td>\n",
       "      <td>380.8</td>\n",
       "      <td>310.1</td>\n",
       "    </tr>\n",
       "  </tbody>\n",
       "</table>\n",
       "</div>"
      ],
      "text/plain": [
       "                    Artist Streams  Daily As lead   Solo As feature\n",
       "2995        Vicente Garcia   729.9  0.397   542.2  434.8      187.6\n",
       "2996                 Yasin   729.6  0.573   645.9  542.0       83.6\n",
       "2997                  Vedo   729.4  0.284   718.2  607.6       11.1\n",
       "2998  Kings of Convenience   728.6  0.252   728.6  618.9        NaN\n",
       "2999            Ayra Starr   728.6  1.881   418.4  380.8      310.1"
      ]
     },
     "execution_count": 6,
     "metadata": {},
     "output_type": "execute_result"
    }
   ],
   "source": [
    "# imprimimos las ultimas 5 filas de la tabla\n",
    "dataFrame.tail(5)"
   ]
  },
  {
   "cell_type": "code",
   "execution_count": 7,
   "metadata": {},
   "outputs": [
    {
     "name": "stdout",
     "output_type": "stream",
     "text": [
      "(3000, 6)\n"
     ]
    }
   ],
   "source": [
    "# imprimimos la cantidad de filas y columnas de la matriz\n",
    "print(dataFrame.shape)"
   ]
  },
  {
   "cell_type": "code",
   "execution_count": 8,
   "metadata": {},
   "outputs": [
    {
     "name": "stdout",
     "output_type": "stream",
     "text": [
      "<bound method DataFrame.count of                     Artist   Streams   Daily   As lead      Solo As feature\n",
      "0                    Drake  85,041.3  50.775  57,252.6  32,681.6   27,788.7\n",
      "1                Bad Bunny  67,533.0  44.820  40,969.6  23,073.0   26,563.4\n",
      "2             Taylor Swift  57,859.0  85.793  55,566.7  50,425.7    2,292.4\n",
      "3               The Weeknd  53,665.2  44.437  42,673.3  31,164.2   10,991.9\n",
      "4               Ed Sheeran  47,907.7  17.506  42,767.9  33,917.0    5,139.8\n",
      "...                    ...       ...     ...       ...       ...        ...\n",
      "2995        Vicente Garcia     729.9   0.397     542.2     434.8      187.6\n",
      "2996                 Yasin     729.6   0.573     645.9     542.0       83.6\n",
      "2997                  Vedo     729.4   0.284     718.2     607.6       11.1\n",
      "2998  Kings of Convenience     728.6   0.252     728.6     618.9        NaN\n",
      "2999            Ayra Starr     728.6   1.881     418.4     380.8      310.1\n",
      "\n",
      "[3000 rows x 6 columns]>\n"
     ]
    }
   ],
   "source": [
    "# imprimimos la totalidad de registros por columnas\n",
    "print(dataFrame.count)"
   ]
  },
  {
   "cell_type": "code",
   "execution_count": 9,
   "metadata": {},
   "outputs": [
    {
     "data": {
      "text/plain": [
       "Artist         object\n",
       "Streams        object\n",
       "Daily         float64\n",
       "As lead        object\n",
       "Solo           object\n",
       "As feature     object\n",
       "dtype: object"
      ]
     },
     "execution_count": 9,
     "metadata": {},
     "output_type": "execute_result"
    }
   ],
   "source": [
    "# imprimimos los tipos de datos cada columna\n",
    "dataFrame.dtypes"
   ]
  },
  {
   "cell_type": "code",
   "execution_count": 10,
   "metadata": {},
   "outputs": [
    {
     "data": {
      "text/plain": [
       "pandas.core.frame.DataFrame"
      ]
     },
     "execution_count": 10,
     "metadata": {},
     "output_type": "execute_result"
    }
   ],
   "source": [
    "# verificamos la estructura del dataframe\n",
    "type(dataFrame)"
   ]
  },
  {
   "cell_type": "code",
   "execution_count": 11,
   "metadata": {},
   "outputs": [
    {
     "data": {
      "text/plain": [
       "Artist        3000\n",
       "Streams       3000\n",
       "Daily         2994\n",
       "As lead       2984\n",
       "Solo          2931\n",
       "As feature    2662\n",
       "dtype: int64"
      ]
     },
     "execution_count": 11,
     "metadata": {},
     "output_type": "execute_result"
    }
   ],
   "source": [
    "dataFrame.count()"
   ]
  },
  {
   "cell_type": "code",
   "execution_count": 12,
   "metadata": {},
   "outputs": [
    {
     "name": "stdout",
     "output_type": "stream",
     "text": [
      "Index(['Artist', 'Streams', 'Daily', 'As lead', 'Solo', 'As feature'], dtype='object')\n"
     ]
    }
   ],
   "source": [
    "# listamos las columnas\n",
    "print(dataFrame.columns)"
   ]
  },
  {
   "cell_type": "code",
   "execution_count": 14,
   "metadata": {},
   "outputs": [],
   "source": [
    "#eliminamos la columna as feature, no modifica el archivo original\n",
    "df = dataFrame.drop(\"As feature\", axis=1)\n",
    "#df.drope('date', axis=1) llama a la funcion drop de pandas y elimina la columna date de la variable df\n",
    "#\"date\" es el argumento a eliminar \n",
    "#axis=1 indica que queremos eliminar la columna date \n",
    "#drop crea una nueva variable con los datos eliminados y devuelve esta copia como resultado. no modifica el dataframe original 'df'"
   ]
  },
  {
   "cell_type": "code",
   "execution_count": 77,
   "metadata": {},
   "outputs": [
    {
     "name": "stdout",
     "output_type": "stream",
     "text": [
      "Index(['Artist', 'Streams', 'Daily', 'As lead', 'Solo'], dtype='object')\n"
     ]
    }
   ],
   "source": [
    "\n",
    "#verificamos:\n",
    "print(df.columns)"
   ]
  },
  {
   "cell_type": "code",
   "execution_count": 26,
   "metadata": {},
   "outputs": [],
   "source": [
    "#inplace=True, estás indicando que deseas modificar el DataFrame original y no crear una copia.\n",
    "# df.drop(columns = ['local_name', 'visitor_goals'], inplace=True)"
   ]
  },
  {
   "cell_type": "code",
   "execution_count": 127,
   "metadata": {},
   "outputs": [
    {
     "name": "stdout",
     "output_type": "stream",
     "text": [
      "Artist          0\n",
      "Streams         0\n",
      "Daily           6\n",
      "As lead        16\n",
      "Solo           69\n",
      "As feature    338\n",
      "dtype: int64\n"
     ]
    }
   ],
   "source": [
    "#busqueda de nulos\n",
    "print(dataFrame.isna().sum())"
   ]
  },
  {
   "cell_type": "code",
   "execution_count": 79,
   "metadata": {},
   "outputs": [
    {
     "name": "stdout",
     "output_type": "stream",
     "text": [
      "<class 'pandas.core.frame.DataFrame'>\n",
      "RangeIndex: 3000 entries, 0 to 2999\n",
      "Data columns (total 6 columns):\n",
      " #   Column      Non-Null Count  Dtype  \n",
      "---  ------      --------------  -----  \n",
      " 0   Artist      3000 non-null   object \n",
      " 1   Streams     3000 non-null   object \n",
      " 2   Daily       2994 non-null   float64\n",
      " 3   As lead     2984 non-null   object \n",
      " 4   Solo        2931 non-null   object \n",
      " 5   As feature  2662 non-null   object \n",
      "dtypes: float64(1), object(5)\n",
      "memory usage: 140.8+ KB\n"
     ]
    }
   ],
   "source": [
    "dataFrame.info()"
   ]
  },
  {
   "cell_type": "code",
   "execution_count": 18,
   "metadata": {},
   "outputs": [
    {
     "data": {
      "text/html": [
       "<div>\n",
       "<style scoped>\n",
       "    .dataframe tbody tr th:only-of-type {\n",
       "        vertical-align: middle;\n",
       "    }\n",
       "\n",
       "    .dataframe tbody tr th {\n",
       "        vertical-align: top;\n",
       "    }\n",
       "\n",
       "    .dataframe thead th {\n",
       "        text-align: right;\n",
       "    }\n",
       "</style>\n",
       "<table border=\"1\" class=\"dataframe\">\n",
       "  <thead>\n",
       "    <tr style=\"text-align: right;\">\n",
       "      <th></th>\n",
       "      <th>Daily</th>\n",
       "    </tr>\n",
       "  </thead>\n",
       "  <tbody>\n",
       "    <tr>\n",
       "      <th>count</th>\n",
       "      <td>2994.000000</td>\n",
       "    </tr>\n",
       "    <tr>\n",
       "      <th>mean</th>\n",
       "      <td>1.854522</td>\n",
       "    </tr>\n",
       "    <tr>\n",
       "      <th>std</th>\n",
       "      <td>3.758283</td>\n",
       "    </tr>\n",
       "    <tr>\n",
       "      <th>min</th>\n",
       "      <td>0.002000</td>\n",
       "    </tr>\n",
       "    <tr>\n",
       "      <th>25%</th>\n",
       "      <td>0.480250</td>\n",
       "    </tr>\n",
       "    <tr>\n",
       "      <th>50%</th>\n",
       "      <td>0.871000</td>\n",
       "    </tr>\n",
       "    <tr>\n",
       "      <th>75%</th>\n",
       "      <td>1.774250</td>\n",
       "    </tr>\n",
       "    <tr>\n",
       "      <th>max</th>\n",
       "      <td>85.793000</td>\n",
       "    </tr>\n",
       "  </tbody>\n",
       "</table>\n",
       "</div>"
      ],
      "text/plain": [
       "             Daily\n",
       "count  2994.000000\n",
       "mean      1.854522\n",
       "std       3.758283\n",
       "min       0.002000\n",
       "25%       0.480250\n",
       "50%       0.871000\n",
       "75%       1.774250\n",
       "max      85.793000"
      ]
     },
     "execution_count": 18,
     "metadata": {},
     "output_type": "execute_result"
    }
   ],
   "source": [
    "# la funcion describe nos permite ver los datos de la tabla y sus estadisticas\n",
    "\n",
    "dataFrame.describe()"
   ]
  },
  {
   "cell_type": "code",
   "execution_count": 69,
   "metadata": {},
   "outputs": [
    {
     "data": {
      "text/html": [
       "<div>\n",
       "<style scoped>\n",
       "    .dataframe tbody tr th:only-of-type {\n",
       "        vertical-align: middle;\n",
       "    }\n",
       "\n",
       "    .dataframe tbody tr th {\n",
       "        vertical-align: top;\n",
       "    }\n",
       "\n",
       "    .dataframe thead th {\n",
       "        text-align: right;\n",
       "    }\n",
       "</style>\n",
       "<table border=\"1\" class=\"dataframe\">\n",
       "  <thead>\n",
       "    <tr style=\"text-align: right;\">\n",
       "      <th></th>\n",
       "      <th>count</th>\n",
       "      <th>mean</th>\n",
       "      <th>std</th>\n",
       "      <th>min</th>\n",
       "      <th>25%</th>\n",
       "      <th>50%</th>\n",
       "      <th>75%</th>\n",
       "      <th>max</th>\n",
       "    </tr>\n",
       "  </thead>\n",
       "  <tbody>\n",
       "    <tr>\n",
       "      <th>Daily</th>\n",
       "      <td>2994.0</td>\n",
       "      <td>1.854522</td>\n",
       "      <td>3.758283</td>\n",
       "      <td>0.002</td>\n",
       "      <td>0.48025</td>\n",
       "      <td>0.871</td>\n",
       "      <td>1.77425</td>\n",
       "      <td>85.793</td>\n",
       "    </tr>\n",
       "  </tbody>\n",
       "</table>\n",
       "</div>"
      ],
      "text/plain": [
       "        count      mean       std    min      25%    50%      75%     max\n",
       "Daily  2994.0  1.854522  3.758283  0.002  0.48025  0.871  1.77425  85.793"
      ]
     },
     "execution_count": 69,
     "metadata": {},
     "output_type": "execute_result"
    }
   ],
   "source": [
    "df.describe().T"
   ]
  },
  {
   "cell_type": "markdown",
   "metadata": {},
   "source": [
    "# separamos en x e y"
   ]
  },
  {
   "cell_type": "code",
   "execution_count": 12,
   "metadata": {},
   "outputs": [
    {
     "name": "stdout",
     "output_type": "stream",
     "text": [
      "Index(['Artist', 'Streams', 'Daily', 'As lead', 'Solo', 'As feature'], dtype='object')\n"
     ]
    }
   ],
   "source": [
    "# listamos las columnas\n",
    "print(dataFrame.columns)"
   ]
  },
  {
   "cell_type": "code",
   "execution_count": 15,
   "metadata": {},
   "outputs": [
    {
     "data": {
      "text/html": [
       "<div>\n",
       "<style scoped>\n",
       "    .dataframe tbody tr th:only-of-type {\n",
       "        vertical-align: middle;\n",
       "    }\n",
       "\n",
       "    .dataframe tbody tr th {\n",
       "        vertical-align: top;\n",
       "    }\n",
       "\n",
       "    .dataframe thead th {\n",
       "        text-align: right;\n",
       "    }\n",
       "</style>\n",
       "<table border=\"1\" class=\"dataframe\">\n",
       "  <thead>\n",
       "    <tr style=\"text-align: right;\">\n",
       "      <th></th>\n",
       "      <th>Artist</th>\n",
       "      <th>Streams</th>\n",
       "      <th>Daily</th>\n",
       "      <th>As lead</th>\n",
       "      <th>Solo</th>\n",
       "      <th>As feature</th>\n",
       "    </tr>\n",
       "  </thead>\n",
       "  <tbody>\n",
       "    <tr>\n",
       "      <th>0</th>\n",
       "      <td>Drake</td>\n",
       "      <td>85,041.3</td>\n",
       "      <td>50.775</td>\n",
       "      <td>57,252.6</td>\n",
       "      <td>32,681.6</td>\n",
       "      <td>27,788.7</td>\n",
       "    </tr>\n",
       "    <tr>\n",
       "      <th>1</th>\n",
       "      <td>Bad Bunny</td>\n",
       "      <td>67,533.0</td>\n",
       "      <td>44.820</td>\n",
       "      <td>40,969.6</td>\n",
       "      <td>23,073.0</td>\n",
       "      <td>26,563.4</td>\n",
       "    </tr>\n",
       "    <tr>\n",
       "      <th>2</th>\n",
       "      <td>Taylor Swift</td>\n",
       "      <td>57,859.0</td>\n",
       "      <td>85.793</td>\n",
       "      <td>55,566.7</td>\n",
       "      <td>50,425.7</td>\n",
       "      <td>2,292.4</td>\n",
       "    </tr>\n",
       "    <tr>\n",
       "      <th>3</th>\n",
       "      <td>The Weeknd</td>\n",
       "      <td>53,665.2</td>\n",
       "      <td>44.437</td>\n",
       "      <td>42,673.3</td>\n",
       "      <td>31,164.2</td>\n",
       "      <td>10,991.9</td>\n",
       "    </tr>\n",
       "    <tr>\n",
       "      <th>4</th>\n",
       "      <td>Ed Sheeran</td>\n",
       "      <td>47,907.7</td>\n",
       "      <td>17.506</td>\n",
       "      <td>42,767.9</td>\n",
       "      <td>33,917.0</td>\n",
       "      <td>5,139.8</td>\n",
       "    </tr>\n",
       "  </tbody>\n",
       "</table>\n",
       "</div>"
      ],
      "text/plain": [
       "         Artist   Streams   Daily   As lead      Solo As feature\n",
       "0         Drake  85,041.3  50.775  57,252.6  32,681.6   27,788.7\n",
       "1     Bad Bunny  67,533.0  44.820  40,969.6  23,073.0   26,563.4\n",
       "2  Taylor Swift  57,859.0  85.793  55,566.7  50,425.7    2,292.4\n",
       "3    The Weeknd  53,665.2  44.437  42,673.3  31,164.2   10,991.9\n",
       "4    Ed Sheeran  47,907.7  17.506  42,767.9  33,917.0    5,139.8"
      ]
     },
     "execution_count": 15,
     "metadata": {},
     "output_type": "execute_result"
    }
   ],
   "source": [
    "dataFrame.head(5)\n"
   ]
  },
  {
   "cell_type": "code",
   "execution_count": 16,
   "metadata": {},
   "outputs": [
    {
     "name": "stdout",
     "output_type": "stream",
     "text": [
      "Artist         object\n",
      "Streams       float64\n",
      "Daily         float64\n",
      "As lead       float64\n",
      "Solo          float64\n",
      "As feature    float64\n",
      "dtype: object\n"
     ]
    }
   ],
   "source": [
    "# Eliminar comas y convertir las columnas en números de punto flotante\n",
    "dataFrame['Streams'] = dataFrame['Streams'].str.replace(',', '').astype(float)\n",
    "dataFrame['As lead'] = dataFrame['As lead'].str.replace(',', '').astype(float)\n",
    "dataFrame['Solo'] = dataFrame['Solo'].str.replace(',', '').astype(float)\n",
    "dataFrame['As feature'] = dataFrame['As feature'].str.replace(',', '').astype(float)\n",
    "\n",
    "# Ahora, verifica los tipos de datos\n",
    "print(dataFrame.dtypes)"
   ]
  },
  {
   "cell_type": "code",
   "execution_count": 18,
   "metadata": {},
   "outputs": [
    {
     "data": {
      "text/html": [
       "<div>\n",
       "<style scoped>\n",
       "    .dataframe tbody tr th:only-of-type {\n",
       "        vertical-align: middle;\n",
       "    }\n",
       "\n",
       "    .dataframe tbody tr th {\n",
       "        vertical-align: top;\n",
       "    }\n",
       "\n",
       "    .dataframe thead th {\n",
       "        text-align: right;\n",
       "    }\n",
       "</style>\n",
       "<table border=\"1\" class=\"dataframe\">\n",
       "  <thead>\n",
       "    <tr style=\"text-align: right;\">\n",
       "      <th></th>\n",
       "      <th>Artist</th>\n",
       "      <th>Streams</th>\n",
       "      <th>Daily</th>\n",
       "      <th>As lead</th>\n",
       "      <th>Solo</th>\n",
       "      <th>As feature</th>\n",
       "    </tr>\n",
       "  </thead>\n",
       "  <tbody>\n",
       "    <tr>\n",
       "      <th>0</th>\n",
       "      <td>Drake</td>\n",
       "      <td>85041.3</td>\n",
       "      <td>50.775</td>\n",
       "      <td>57252.6</td>\n",
       "      <td>32681.6</td>\n",
       "      <td>27788.7</td>\n",
       "    </tr>\n",
       "    <tr>\n",
       "      <th>1</th>\n",
       "      <td>Bad Bunny</td>\n",
       "      <td>67533.0</td>\n",
       "      <td>44.820</td>\n",
       "      <td>40969.6</td>\n",
       "      <td>23073.0</td>\n",
       "      <td>26563.4</td>\n",
       "    </tr>\n",
       "    <tr>\n",
       "      <th>2</th>\n",
       "      <td>Taylor Swift</td>\n",
       "      <td>57859.0</td>\n",
       "      <td>85.793</td>\n",
       "      <td>55566.7</td>\n",
       "      <td>50425.7</td>\n",
       "      <td>2292.4</td>\n",
       "    </tr>\n",
       "    <tr>\n",
       "      <th>3</th>\n",
       "      <td>The Weeknd</td>\n",
       "      <td>53665.2</td>\n",
       "      <td>44.437</td>\n",
       "      <td>42673.3</td>\n",
       "      <td>31164.2</td>\n",
       "      <td>10991.9</td>\n",
       "    </tr>\n",
       "    <tr>\n",
       "      <th>4</th>\n",
       "      <td>Ed Sheeran</td>\n",
       "      <td>47907.7</td>\n",
       "      <td>17.506</td>\n",
       "      <td>42767.9</td>\n",
       "      <td>33917.0</td>\n",
       "      <td>5139.8</td>\n",
       "    </tr>\n",
       "  </tbody>\n",
       "</table>\n",
       "</div>"
      ],
      "text/plain": [
       "         Artist  Streams   Daily  As lead     Solo  As feature\n",
       "0         Drake  85041.3  50.775  57252.6  32681.6     27788.7\n",
       "1     Bad Bunny  67533.0  44.820  40969.6  23073.0     26563.4\n",
       "2  Taylor Swift  57859.0  85.793  55566.7  50425.7      2292.4\n",
       "3    The Weeknd  53665.2  44.437  42673.3  31164.2     10991.9\n",
       "4    Ed Sheeran  47907.7  17.506  42767.9  33917.0      5139.8"
      ]
     },
     "execution_count": 18,
     "metadata": {},
     "output_type": "execute_result"
    }
   ],
   "source": [
    "#Verificamos el cambio\n",
    "dataFrame.head(5)"
   ]
  },
  {
   "cell_type": "code",
   "execution_count": 21,
   "metadata": {},
   "outputs": [
    {
     "data": {
      "text/html": [
       "<div>\n",
       "<style scoped>\n",
       "    .dataframe tbody tr th:only-of-type {\n",
       "        vertical-align: middle;\n",
       "    }\n",
       "\n",
       "    .dataframe tbody tr th {\n",
       "        vertical-align: top;\n",
       "    }\n",
       "\n",
       "    .dataframe thead th {\n",
       "        text-align: right;\n",
       "    }\n",
       "</style>\n",
       "<table border=\"1\" class=\"dataframe\">\n",
       "  <thead>\n",
       "    <tr style=\"text-align: right;\">\n",
       "      <th></th>\n",
       "      <th>Artist</th>\n",
       "      <th>Streams</th>\n",
       "      <th>Daily</th>\n",
       "      <th>As lead</th>\n",
       "      <th>Solo</th>\n",
       "      <th>As feature</th>\n",
       "    </tr>\n",
       "  </thead>\n",
       "  <tbody>\n",
       "    <tr>\n",
       "      <th>41</th>\n",
       "      <td>Rauw Alejandro</td>\n",
       "      <td>21277.3</td>\n",
       "      <td>17.694</td>\n",
       "      <td>11520.5</td>\n",
       "      <td>4287.6</td>\n",
       "      <td>9756.8</td>\n",
       "    </tr>\n",
       "    <tr>\n",
       "      <th>42</th>\n",
       "      <td>Sam Smith</td>\n",
       "      <td>21133.7</td>\n",
       "      <td>9.977</td>\n",
       "      <td>18066.0</td>\n",
       "      <td>13576.0</td>\n",
       "      <td>3067.7</td>\n",
       "    </tr>\n",
       "    <tr>\n",
       "      <th>43</th>\n",
       "      <td>J. Cole</td>\n",
       "      <td>21049.1</td>\n",
       "      <td>12.272</td>\n",
       "      <td>16098.4</td>\n",
       "      <td>12872.9</td>\n",
       "      <td>4950.8</td>\n",
       "    </tr>\n",
       "    <tr>\n",
       "      <th>44</th>\n",
       "      <td>Farruko</td>\n",
       "      <td>20784.1</td>\n",
       "      <td>8.096</td>\n",
       "      <td>5669.1</td>\n",
       "      <td>3160.4</td>\n",
       "      <td>15115.0</td>\n",
       "    </tr>\n",
       "    <tr>\n",
       "      <th>45</th>\n",
       "      <td>Lana Del Rey</td>\n",
       "      <td>20052.2</td>\n",
       "      <td>24.470</td>\n",
       "      <td>18194.9</td>\n",
       "      <td>16379.3</td>\n",
       "      <td>1857.3</td>\n",
       "    </tr>\n",
       "  </tbody>\n",
       "</table>\n",
       "</div>"
      ],
      "text/plain": [
       "            Artist  Streams   Daily  As lead     Solo  As feature\n",
       "41  Rauw Alejandro  21277.3  17.694  11520.5   4287.6      9756.8\n",
       "42       Sam Smith  21133.7   9.977  18066.0  13576.0      3067.7\n",
       "43         J. Cole  21049.1  12.272  16098.4  12872.9      4950.8\n",
       "44         Farruko  20784.1   8.096   5669.1   3160.4     15115.0\n",
       "45    Lana Del Rey  20052.2  24.470  18194.9  16379.3      1857.3"
      ]
     },
     "execution_count": 21,
     "metadata": {},
     "output_type": "execute_result"
    }
   ],
   "source": [
    "# filtrar por los que tienen mas de 20000 streams\n",
    "dp_filtrados = dataFrame[dataFrame.Streams > 20000]\n",
    "dp_filtrados.tail(5)"
   ]
  },
  {
   "cell_type": "code",
   "execution_count": 25,
   "metadata": {},
   "outputs": [
    {
     "name": "stdout",
     "output_type": "stream",
     "text": [
      "              Artist  Streams   Daily  As lead     Solo  As feature\n",
      "0              Drake  85041.3  50.775  57252.6  32681.6     27788.7\n",
      "1          Bad Bunny  67533.0  44.820  40969.6  23073.0     26563.4\n",
      "2       Taylor Swift  57859.0  85.793  55566.7  50425.7      2292.4\n",
      "3         The Weeknd  53665.2  44.437  42673.3  31164.2     10991.9\n",
      "4         Ed Sheeran  47907.7  17.506  42767.9  33917.0      5139.8\n",
      "5      Justin Bieber  47525.7  18.868  27988.0  17183.9     19537.7\n",
      "6             Eminem  42029.0  20.175  35475.8  21576.7      6553.2\n",
      "7      Ariana Grande  40111.0  17.158  33219.8  23307.3      6891.2\n",
      "8           J Balvin  38774.8  11.784  17450.7   5699.8     21324.2\n",
      "9        Post Malone  38002.7  21.095  34494.0  18943.9      3508.6\n",
      "10        Kanye West  37667.2  24.157  27205.7  18032.3     10461.6\n",
      "11      Travis Scott  37489.0  38.359  18839.2  14960.2     18649.7\n",
      "12               BTS  35778.0  14.960  32041.3  28991.6      3736.7\n",
      "13           Rihanna  35501.8  20.778  25380.1  16736.0     10121.7\n",
      "15        Juice WRLD  32332.5  13.410  23613.9  18277.1      8718.6\n",
      "16            Future  31001.7  20.513  15374.1   7299.6     15627.6\n",
      "18    Kendrick Lamar  29836.5  16.652  20052.2  12208.1      9784.3\n",
      "19     Billie Eilish  29173.3  19.313  29173.3  25240.5         NaN\n",
      "20      XXXTENTACION  28370.7  11.181  24681.3  20244.5      3689.4\n",
      "22   Imagine Dragons  28100.5  16.133  26430.9  22543.8      1669.6\n",
      "24          Coldplay  27526.1  14.860  25154.3  22329.9      2371.8\n",
      "25        Bruno Mars  27465.0  19.063  20901.5  17207.5      6563.5\n",
      "26          Dua Lipa  27235.7  15.613  17797.4  14127.9      9438.3\n",
      "29      David Guetta  25236.3  15.439  18511.0    900.8      6725.3\n",
      "32          Maroon 5  23404.5  10.845  23209.5  14873.4       195.0\n",
      "36          BeyoncÃ©  21982.7  13.685  18075.1  13666.3      3907.7\n",
      "37      Shawn Mendes  21909.9   7.467  21320.3  16361.3       589.6\n",
      "38     Calvin Harris  21862.3  11.971  20244.5   3585.6      1617.8\n",
      "42         Sam Smith  21133.7   9.977  18066.0  13576.0      3067.7\n",
      "43           J. Cole  21049.1  12.272  16098.4  12872.9      4950.8\n",
      "45      Lana Del Rey  20052.2  24.470  18194.9  16379.3      1857.3\n",
      "46             Queen  19725.6  10.034  19672.9  18175.4        52.7\n",
      "50      Harry Styles  18906.5  12.693  18906.5  18906.5         NaN\n",
      "51         Lady Gaga  18751.7   9.844  18352.2  12142.2       399.4\n",
      "52     One Direction  18720.4   8.746  18720.4  18638.9         NaN\n",
      "55             Adele  17925.9  11.157  17883.7  17759.2        42.2\n",
      "59  The Chainsmokers  17469.2   5.249  17050.0   3069.6       419.1\n",
      "64       The Beatles  16673.3   8.152  16671.1  16667.4         2.2\n",
      "66       Linkin Park  16238.3  10.653  15044.7  14056.0      1193.6\n",
      "70    Arctic Monkeys  15544.5  12.980  15544.5  15544.5         NaN\n"
     ]
    }
   ],
   "source": [
    "dp_filtrados = dataFrame[dataFrame[\"As lead\"] > 15000]\n",
    "dp_filtrados.tail(5)"
   ]
  },
  {
   "cell_type": "code",
   "execution_count": 107,
   "metadata": {},
   "outputs": [],
   "source": [
    "\n",
    "# x = dataFrame.drop('Streams',axis=1) #eliminamos la variable a predecir\n",
    "x = pd.get_dummies(dataFrame.drop('Streams', axis=1), columns=['Artist'])\n",
    "\n",
    "y = dataFrame.Streams\n"
   ]
  },
  {
   "cell_type": "markdown",
   "metadata": {},
   "source": [
    "función **train_test_split** de la librería **Scikit-Learn**\n",
    "**📝Nota:** Esta función es muy útil en el aprendizaje automático para dividir un conjunto de datos en dos partes: un conjunto de entrenamiento y un conjunto de prueba. Estas dos partes se utilizan para entrenar un modelo de aprendizaje automático en el conjunto de entrenamiento y evaluar su rendimiento en el conjunto de prueba.\n",
    "\n",
    "LUego:\n",
    "* **x_train y y_train** contendrán los datos de entrenamiento para los atributos y la variable objetivo, respectivamente.\n",
    "* **x_test y y_test** contendrán los datos de prueba para los atributos y la variable objetivo, respectivamente.\n",
    "* **test_size** controla la proporción de datos que se asignarán al conjunto de prueba. En este ejemplo, el 30% de los datos se asignarán al conjunto de prueba.\n",
    "* **random_state** se utiliza para establecer una semilla aleatoria, lo que hace que la división sea reproducible. Siempre que uses la misma semilla, obtendrás la misma división de datos. Esto es útil para experimentación y comparación de modelos. \n"
   ]
  },
  {
   "cell_type": "code",
   "execution_count": 108,
   "metadata": {},
   "outputs": [],
   "source": [
    "from sklearn.model_selection import train_test_split\n",
    "\n",
    "#me quedo con 30% para test y  70 para test\n",
    "## Supongamos que 'x' es tu conjunto de atributos y 'y' es tu variable objetivo\n",
    "x_train, x_test, y_train, y_test = train_test_split(x, y, test_size=0.30, random_state=42)\n"
   ]
  },
  {
   "cell_type": "code",
   "execution_count": 109,
   "metadata": {},
   "outputs": [],
   "source": [
    "#arbol decicion:\n",
    "#El árbol de decisiones es un algoritmo de aprendizaje automático que se utiliza tanto en tareas de clasificación como de regresión.\n",
    "from sklearn.tree import DecisionTreeClassifier\n",
    "tree = DecisionTreeClassifier(max_depth=2, random_state=42)\n"
   ]
  },
  {
   "cell_type": "markdown",
   "metadata": {},
   "source": [
    "**max_depth=2:** Esto establece la profundidad máxima del árbol de decisiones en 2. La profundidad del árbol controla cuántas divisiones o niveles de decisiones puede tomar el árbol antes de llegar a una hoja (una predicción).\n",
    "\n",
    "**random_state=42:** Esto establece una semilla aleatoria para garantizar que el proceso de entrenamiento sea reproducible. Siempre que uses la misma semilla (en este caso, 42), obtendrás los mismos resultados cada vez que entrenes el modelo. Esto es útil para la reproducibilidad de tus experimentos."
   ]
  },
  {
   "cell_type": "markdown",
   "metadata": {},
   "source": [
    "## 🤖 Entrenar el modelo\n",
    "Una vez que hayas creado el objeto DecisionTreeClassifier, puedes utilizarlo para entrenar un modelo de árbol de decisiones en tus datos de entrenamiento. Esto implica proporcionar los conjuntos de entrenamiento x_train y y_train que contienen tus atributos y la variable objetivo, respectivamente, y luego llamar al método fit en el objeto tree para realizar el entrenamiento."
   ]
  },
  {
   "cell_type": "code",
   "execution_count": 110,
   "metadata": {},
   "outputs": [
    {
     "ename": "ValueError",
     "evalue": "Unknown label type: continuous. Maybe you are trying to fit a classifier, which expects discrete classes on a regression target with continuous values.",
     "output_type": "error",
     "traceback": [
      "\u001b[0;31m---------------------------------------------------------------------------\u001b[0m",
      "\u001b[0;31mValueError\u001b[0m                                Traceback (most recent call last)",
      "\u001b[1;32m/home/guille/repos_git/sabadosAcompañar/python/tema5-machineLearning/final/ejersicio2.ipynb Celda 28\u001b[0m line \u001b[0;36m2\n\u001b[1;32m      <a href='vscode-notebook-cell:/home/guille/repos_git/sabadosAcompa%C3%B1ar/python/tema5-machineLearning/final/ejersicio2.ipynb#X36sZmlsZQ%3D%3D?line=0'>1</a>\u001b[0m \u001b[39m#tree permite entrenar el modelo\u001b[39;00m\n\u001b[0;32m----> <a href='vscode-notebook-cell:/home/guille/repos_git/sabadosAcompa%C3%B1ar/python/tema5-machineLearning/final/ejersicio2.ipynb#X36sZmlsZQ%3D%3D?line=1'>2</a>\u001b[0m tree\u001b[39m.\u001b[39;49mfit(x_train, y_train)\n",
      "File \u001b[0;32m~/.local/lib/python3.10/site-packages/sklearn/base.py:1152\u001b[0m, in \u001b[0;36m_fit_context.<locals>.decorator.<locals>.wrapper\u001b[0;34m(estimator, *args, **kwargs)\u001b[0m\n\u001b[1;32m   1145\u001b[0m     estimator\u001b[39m.\u001b[39m_validate_params()\n\u001b[1;32m   1147\u001b[0m \u001b[39mwith\u001b[39;00m config_context(\n\u001b[1;32m   1148\u001b[0m     skip_parameter_validation\u001b[39m=\u001b[39m(\n\u001b[1;32m   1149\u001b[0m         prefer_skip_nested_validation \u001b[39mor\u001b[39;00m global_skip_validation\n\u001b[1;32m   1150\u001b[0m     )\n\u001b[1;32m   1151\u001b[0m ):\n\u001b[0;32m-> 1152\u001b[0m     \u001b[39mreturn\u001b[39;00m fit_method(estimator, \u001b[39m*\u001b[39;49margs, \u001b[39m*\u001b[39;49m\u001b[39m*\u001b[39;49mkwargs)\n",
      "File \u001b[0;32m~/.local/lib/python3.10/site-packages/sklearn/tree/_classes.py:959\u001b[0m, in \u001b[0;36mDecisionTreeClassifier.fit\u001b[0;34m(self, X, y, sample_weight, check_input)\u001b[0m\n\u001b[1;32m    928\u001b[0m \u001b[39m@_fit_context\u001b[39m(prefer_skip_nested_validation\u001b[39m=\u001b[39m\u001b[39mTrue\u001b[39;00m)\n\u001b[1;32m    929\u001b[0m \u001b[39mdef\u001b[39;00m \u001b[39mfit\u001b[39m(\u001b[39mself\u001b[39m, X, y, sample_weight\u001b[39m=\u001b[39m\u001b[39mNone\u001b[39;00m, check_input\u001b[39m=\u001b[39m\u001b[39mTrue\u001b[39;00m):\n\u001b[1;32m    930\u001b[0m \u001b[39m    \u001b[39m\u001b[39m\"\"\"Build a decision tree classifier from the training set (X, y).\u001b[39;00m\n\u001b[1;32m    931\u001b[0m \n\u001b[1;32m    932\u001b[0m \u001b[39m    Parameters\u001b[39;00m\n\u001b[0;32m   (...)\u001b[0m\n\u001b[1;32m    956\u001b[0m \u001b[39m        Fitted estimator.\u001b[39;00m\n\u001b[1;32m    957\u001b[0m \u001b[39m    \"\"\"\u001b[39;00m\n\u001b[0;32m--> 959\u001b[0m     \u001b[39msuper\u001b[39;49m()\u001b[39m.\u001b[39;49m_fit(\n\u001b[1;32m    960\u001b[0m         X,\n\u001b[1;32m    961\u001b[0m         y,\n\u001b[1;32m    962\u001b[0m         sample_weight\u001b[39m=\u001b[39;49msample_weight,\n\u001b[1;32m    963\u001b[0m         check_input\u001b[39m=\u001b[39;49mcheck_input,\n\u001b[1;32m    964\u001b[0m     )\n\u001b[1;32m    965\u001b[0m     \u001b[39mreturn\u001b[39;00m \u001b[39mself\u001b[39m\n",
      "File \u001b[0;32m~/.local/lib/python3.10/site-packages/sklearn/tree/_classes.py:284\u001b[0m, in \u001b[0;36mBaseDecisionTree._fit\u001b[0;34m(self, X, y, sample_weight, check_input, missing_values_in_feature_mask)\u001b[0m\n\u001b[1;32m    281\u001b[0m \u001b[39mself\u001b[39m\u001b[39m.\u001b[39mn_outputs_ \u001b[39m=\u001b[39m y\u001b[39m.\u001b[39mshape[\u001b[39m1\u001b[39m]\n\u001b[1;32m    283\u001b[0m \u001b[39mif\u001b[39;00m is_classification:\n\u001b[0;32m--> 284\u001b[0m     check_classification_targets(y)\n\u001b[1;32m    285\u001b[0m     y \u001b[39m=\u001b[39m np\u001b[39m.\u001b[39mcopy(y)\n\u001b[1;32m    287\u001b[0m     \u001b[39mself\u001b[39m\u001b[39m.\u001b[39mclasses_ \u001b[39m=\u001b[39m []\n",
      "File \u001b[0;32m~/.local/lib/python3.10/site-packages/sklearn/utils/multiclass.py:216\u001b[0m, in \u001b[0;36mcheck_classification_targets\u001b[0;34m(y)\u001b[0m\n\u001b[1;32m    208\u001b[0m y_type \u001b[39m=\u001b[39m type_of_target(y, input_name\u001b[39m=\u001b[39m\u001b[39m\"\u001b[39m\u001b[39my\u001b[39m\u001b[39m\"\u001b[39m)\n\u001b[1;32m    209\u001b[0m \u001b[39mif\u001b[39;00m y_type \u001b[39mnot\u001b[39;00m \u001b[39min\u001b[39;00m [\n\u001b[1;32m    210\u001b[0m     \u001b[39m\"\u001b[39m\u001b[39mbinary\u001b[39m\u001b[39m\"\u001b[39m,\n\u001b[1;32m    211\u001b[0m     \u001b[39m\"\u001b[39m\u001b[39mmulticlass\u001b[39m\u001b[39m\"\u001b[39m,\n\u001b[0;32m   (...)\u001b[0m\n\u001b[1;32m    214\u001b[0m     \u001b[39m\"\u001b[39m\u001b[39mmultilabel-sequences\u001b[39m\u001b[39m\"\u001b[39m,\n\u001b[1;32m    215\u001b[0m ]:\n\u001b[0;32m--> 216\u001b[0m     \u001b[39mraise\u001b[39;00m \u001b[39mValueError\u001b[39;00m(\n\u001b[1;32m    217\u001b[0m         \u001b[39mf\u001b[39m\u001b[39m\"\u001b[39m\u001b[39mUnknown label type: \u001b[39m\u001b[39m{\u001b[39;00my_type\u001b[39m}\u001b[39;00m\u001b[39m. Maybe you are trying to fit a \u001b[39m\u001b[39m\"\u001b[39m\n\u001b[1;32m    218\u001b[0m         \u001b[39m\"\u001b[39m\u001b[39mclassifier, which expects discrete classes on a \u001b[39m\u001b[39m\"\u001b[39m\n\u001b[1;32m    219\u001b[0m         \u001b[39m\"\u001b[39m\u001b[39mregression target with continuous values.\u001b[39m\u001b[39m\"\u001b[39m\n\u001b[1;32m    220\u001b[0m     )\n",
      "\u001b[0;31mValueError\u001b[0m: Unknown label type: continuous. Maybe you are trying to fit a classifier, which expects discrete classes on a regression target with continuous values."
     ]
    }
   ],
   "source": [
    "#tree permite entrenar el modelo\n",
    "tree.fit(x_train, y_train)\n"
   ]
  }
 ],
 "metadata": {
  "kernelspec": {
   "display_name": "Python 3",
   "language": "python",
   "name": "python3"
  },
  "language_info": {
   "codemirror_mode": {
    "name": "ipython",
    "version": 3
   },
   "file_extension": ".py",
   "mimetype": "text/x-python",
   "name": "python",
   "nbconvert_exporter": "python",
   "pygments_lexer": "ipython3",
   "version": "3.10.12"
  },
  "orig_nbformat": 4
 },
 "nbformat": 4,
 "nbformat_minor": 2
}
