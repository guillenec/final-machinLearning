{
 "cells": [
  {
   "cell_type": "markdown",
   "metadata": {},
   "source": [
    "## Parte 2\n",
    "\n",
    "* Realizar una ingesta de datos de un archivo formato .csv utilizando la librería de Pandas - esto es crear una variable y usando pandas añadir un csv.\n",
    "\n",
    "* link de interés para la descarga gratuita de datasets.\n",
    "[Enlace bases de datos gratuitas:](https://www.kaggle.com/datasets)\n",
    "\n"
   ]
  },
  {
   "cell_type": "code",
   "execution_count": 1,
   "metadata": {},
   "outputs": [
    {
     "name": "stdout",
     "output_type": "stream",
     "text": [
      "hola\n"
     ]
    }
   ],
   "source": [
    "print(\"hola\")"
   ]
  },
  {
   "cell_type": "code",
   "execution_count": 13,
   "metadata": {},
   "outputs": [],
   "source": [
    "#ingesta de datos en una variable\n",
    "import pandas as pd\n",
    "\n",
    "dataFrame = pd.read_csv('./clasicos.csv', sep = \",\")\n"
   ]
  },
  {
   "cell_type": "code",
   "execution_count": 14,
   "metadata": {},
   "outputs": [
    {
     "data": {
      "text/html": [
       "<div>\n",
       "<style scoped>\n",
       "    .dataframe tbody tr th:only-of-type {\n",
       "        vertical-align: middle;\n",
       "    }\n",
       "\n",
       "    .dataframe tbody tr th {\n",
       "        vertical-align: top;\n",
       "    }\n",
       "\n",
       "    .dataframe thead th {\n",
       "        text-align: right;\n",
       "    }\n",
       "</style>\n",
       "<table border=\"1\" class=\"dataframe\">\n",
       "  <thead>\n",
       "    <tr style=\"text-align: right;\">\n",
       "      <th></th>\n",
       "      <th>local_goals</th>\n",
       "      <th>local_name</th>\n",
       "      <th>match</th>\n",
       "      <th>visitor_goals</th>\n",
       "      <th>visitor_name</th>\n",
       "    </tr>\n",
       "  </thead>\n",
       "  <tbody>\n",
       "    <tr>\n",
       "      <th>0</th>\n",
       "      <td>0</td>\n",
       "      <td>Colon</td>\n",
       "      <td>Superliga 2018/19 - Fecha 4</td>\n",
       "      <td>0</td>\n",
       "      <td>Union</td>\n",
       "    </tr>\n",
       "    <tr>\n",
       "      <th>1</th>\n",
       "      <td>1</td>\n",
       "      <td>Union</td>\n",
       "      <td>Superliga 2017/18 - Fecha 17</td>\n",
       "      <td>1</td>\n",
       "      <td>Colon</td>\n",
       "    </tr>\n",
       "    <tr>\n",
       "      <th>2</th>\n",
       "      <td>1</td>\n",
       "      <td>Colon</td>\n",
       "      <td>Campeonato 2016/17 - Fecha 24</td>\n",
       "      <td>1</td>\n",
       "      <td>Union</td>\n",
       "    </tr>\n",
       "    <tr>\n",
       "      <th>3</th>\n",
       "      <td>0</td>\n",
       "      <td>Union</td>\n",
       "      <td>Campeonato 2016/17 - Fecha 16</td>\n",
       "      <td>2</td>\n",
       "      <td>Colon</td>\n",
       "    </tr>\n",
       "    <tr>\n",
       "      <th>4</th>\n",
       "      <td>1</td>\n",
       "      <td>Union</td>\n",
       "      <td>Torneo 2016 - Fecha 12</td>\n",
       "      <td>0</td>\n",
       "      <td>Colon</td>\n",
       "    </tr>\n",
       "  </tbody>\n",
       "</table>\n",
       "</div>"
      ],
      "text/plain": [
       "   local_goals local_name                          match  visitor_goals  \\\n",
       "0            0      Colon    Superliga 2018/19 - Fecha 4              0   \n",
       "1            1      Union   Superliga 2017/18 - Fecha 17              1   \n",
       "2            1      Colon  Campeonato 2016/17 - Fecha 24              1   \n",
       "3            0      Union  Campeonato 2016/17 - Fecha 16              2   \n",
       "4            1      Union         Torneo 2016 - Fecha 12              0   \n",
       "\n",
       "  visitor_name  \n",
       "0        Union  \n",
       "1        Colon  \n",
       "2        Union  \n",
       "3        Colon  \n",
       "4        Colon  "
      ]
     },
     "execution_count": 14,
     "metadata": {},
     "output_type": "execute_result"
    }
   ],
   "source": [
    "#imprimimos las primeras 5 filas de la variable df\n",
    "dataFrame.head(5)"
   ]
  },
  {
   "cell_type": "code",
   "execution_count": 15,
   "metadata": {},
   "outputs": [
    {
     "data": {
      "text/html": [
       "<div>\n",
       "<style scoped>\n",
       "    .dataframe tbody tr th:only-of-type {\n",
       "        vertical-align: middle;\n",
       "    }\n",
       "\n",
       "    .dataframe tbody tr th {\n",
       "        vertical-align: top;\n",
       "    }\n",
       "\n",
       "    .dataframe thead th {\n",
       "        text-align: right;\n",
       "    }\n",
       "</style>\n",
       "<table border=\"1\" class=\"dataframe\">\n",
       "  <thead>\n",
       "    <tr style=\"text-align: right;\">\n",
       "      <th></th>\n",
       "      <th>local_goals</th>\n",
       "      <th>local_name</th>\n",
       "      <th>match</th>\n",
       "      <th>visitor_goals</th>\n",
       "      <th>visitor_name</th>\n",
       "    </tr>\n",
       "  </thead>\n",
       "  <tbody>\n",
       "    <tr>\n",
       "      <th>932</th>\n",
       "      <td>2</td>\n",
       "      <td>Boca Juniors</td>\n",
       "      <td>Campeonato 1932 - Fecha 32</td>\n",
       "      <td>1</td>\n",
       "      <td>River Plate</td>\n",
       "    </tr>\n",
       "    <tr>\n",
       "      <th>933</th>\n",
       "      <td>1</td>\n",
       "      <td>River Plate</td>\n",
       "      <td>Campeonato 1932 - Fecha 15</td>\n",
       "      <td>1</td>\n",
       "      <td>Boca Juniors</td>\n",
       "    </tr>\n",
       "    <tr>\n",
       "      <th>934</th>\n",
       "      <td>0</td>\n",
       "      <td>River Plate</td>\n",
       "      <td>Campeonato 1931 - Fecha 34</td>\n",
       "      <td>3</td>\n",
       "      <td>Boca Juniors</td>\n",
       "    </tr>\n",
       "    <tr>\n",
       "      <th>935</th>\n",
       "      <td>1</td>\n",
       "      <td>Boca Juniors</td>\n",
       "      <td>Campeonato 1931 - Fecha 17</td>\n",
       "      <td>1</td>\n",
       "      <td>River Plate</td>\n",
       "    </tr>\n",
       "  </tbody>\n",
       "</table>\n",
       "</div>"
      ],
      "text/plain": [
       "     local_goals    local_name                       match  visitor_goals  \\\n",
       "932            2  Boca Juniors  Campeonato 1932 - Fecha 32              1   \n",
       "933            1   River Plate  Campeonato 1932 - Fecha 15              1   \n",
       "934            0   River Plate  Campeonato 1931 - Fecha 34              3   \n",
       "935            1  Boca Juniors  Campeonato 1931 - Fecha 17              1   \n",
       "\n",
       "     visitor_name  \n",
       "932   River Plate  \n",
       "933  Boca Juniors  \n",
       "934  Boca Juniors  \n",
       "935   River Plate  "
      ]
     },
     "execution_count": 15,
     "metadata": {},
     "output_type": "execute_result"
    }
   ],
   "source": [
    "# imprimimos las ultimas 4 filas de la tabla\n",
    "dataFrame.tail(4)"
   ]
  },
  {
   "cell_type": "code",
   "execution_count": 16,
   "metadata": {},
   "outputs": [
    {
     "name": "stdout",
     "output_type": "stream",
     "text": [
      "(936, 5)\n"
     ]
    }
   ],
   "source": [
    "# imprimimos la cantidad de filas y columnas de la matriz\n",
    "print(dataFrame.shape)"
   ]
  },
  {
   "cell_type": "code",
   "execution_count": 17,
   "metadata": {},
   "outputs": [
    {
     "name": "stdout",
     "output_type": "stream",
     "text": [
      "<bound method DataFrame.count of      local_goals    local_name                          match  visitor_goals  \\\n",
      "0              0         Colon    Superliga 2018/19 - Fecha 4              0   \n",
      "1              1         Union   Superliga 2017/18 - Fecha 17              1   \n",
      "2              1         Colon  Campeonato 2016/17 - Fecha 24              1   \n",
      "3              0         Union  Campeonato 2016/17 - Fecha 16              2   \n",
      "4              1         Union         Torneo 2016 - Fecha 12              0   \n",
      "..           ...           ...                            ...            ...   \n",
      "931            1  Boca Juniors     Campeonato 1933 - Fecha 17              1   \n",
      "932            2  Boca Juniors     Campeonato 1932 - Fecha 32              1   \n",
      "933            1   River Plate     Campeonato 1932 - Fecha 15              1   \n",
      "934            0   River Plate     Campeonato 1931 - Fecha 34              3   \n",
      "935            1  Boca Juniors     Campeonato 1931 - Fecha 17              1   \n",
      "\n",
      "     visitor_name  \n",
      "0           Union  \n",
      "1           Colon  \n",
      "2           Union  \n",
      "3           Colon  \n",
      "4           Colon  \n",
      "..            ...  \n",
      "931   River Plate  \n",
      "932   River Plate  \n",
      "933  Boca Juniors  \n",
      "934  Boca Juniors  \n",
      "935   River Plate  \n",
      "\n",
      "[936 rows x 5 columns]>\n"
     ]
    }
   ],
   "source": [
    "# imprimimos la totalidad de registros por columnas\n",
    "print(dataFrame.count)"
   ]
  },
  {
   "cell_type": "code",
   "execution_count": 18,
   "metadata": {},
   "outputs": [
    {
     "data": {
      "text/plain": [
       "local_goals       int64\n",
       "local_name       object\n",
       "match            object\n",
       "visitor_goals     int64\n",
       "visitor_name     object\n",
       "dtype: object"
      ]
     },
     "execution_count": 18,
     "metadata": {},
     "output_type": "execute_result"
    }
   ],
   "source": [
    "# imprimimos los tipos de datos cada columna\n",
    "dataFrame.dtypes"
   ]
  },
  {
   "cell_type": "code",
   "execution_count": 19,
   "metadata": {},
   "outputs": [
    {
     "data": {
      "text/plain": [
       "pandas.core.frame.DataFrame"
      ]
     },
     "execution_count": 19,
     "metadata": {},
     "output_type": "execute_result"
    }
   ],
   "source": [
    "# verificamos la estructura del dataframe\n",
    "type(dataFrame)"
   ]
  },
  {
   "cell_type": "code",
   "execution_count": 21,
   "metadata": {},
   "outputs": [
    {
     "name": "stdout",
     "output_type": "stream",
     "text": [
      "Index(['local_goals', 'local_name', 'match', 'visitor_goals', 'visitor_name'], dtype='object')\n"
     ]
    }
   ],
   "source": [
    "# listamos las columnas\n",
    "print(dataFrame.columns)"
   ]
  },
  {
   "cell_type": "code",
   "execution_count": 24,
   "metadata": {},
   "outputs": [],
   "source": [
    "#eliminamos la columna match, no modifica el archivo original\n",
    "df = dataFrame.drop(\"match\", axis=1)\n",
    "#df.drope('date', axis=1) llama a la funcion drop de pandas y elimina la columna date de la variable df\n",
    "#\"date\" es el argumento a eliminar \n",
    "#axis=1 indica que queremos eliminar la columna date \n",
    "#drop crea una nueva variable con los datos eliminados y devuelve esta copia como resultado. no modifica el dataframe original 'df'"
   ]
  },
  {
   "cell_type": "code",
   "execution_count": 25,
   "metadata": {},
   "outputs": [
    {
     "name": "stdout",
     "output_type": "stream",
     "text": [
      "Index(['local_goals', 'local_name', 'visitor_goals', 'visitor_name'], dtype='object')\n"
     ]
    }
   ],
   "source": [
    "\n",
    "#verificamos:\n",
    "print(df.columns)"
   ]
  },
  {
   "cell_type": "code",
   "execution_count": 26,
   "metadata": {},
   "outputs": [],
   "source": [
    "#inplace=True, estás indicando que deseas modificar el DataFrame original y no crear una copia.\n",
    "# df.drop(columns = ['local_name', 'visitor_goals'], inplace=True)"
   ]
  },
  {
   "cell_type": "code",
   "execution_count": 33,
   "metadata": {},
   "outputs": [
    {
     "name": "stdout",
     "output_type": "stream",
     "text": [
      "local_goals      0\n",
      "local_name       0\n",
      "match            0\n",
      "visitor_goals    0\n",
      "visitor_name     0\n",
      "dtype: int64\n"
     ]
    }
   ],
   "source": [
    "#busqueda de nulos\n",
    "print(dataFrame.isna().sum())"
   ]
  },
  {
   "cell_type": "code",
   "execution_count": 35,
   "metadata": {},
   "outputs": [
    {
     "name": "stdout",
     "output_type": "stream",
     "text": [
      "<class 'pandas.core.frame.DataFrame'>\n",
      "RangeIndex: 936 entries, 0 to 935\n",
      "Data columns (total 5 columns):\n",
      " #   Column         Non-Null Count  Dtype \n",
      "---  ------         --------------  ----- \n",
      " 0   local_goals    936 non-null    int64 \n",
      " 1   local_name     936 non-null    object\n",
      " 2   match          936 non-null    object\n",
      " 3   visitor_goals  936 non-null    int64 \n",
      " 4   visitor_name   936 non-null    object\n",
      "dtypes: int64(2), object(3)\n",
      "memory usage: 36.7+ KB\n"
     ]
    }
   ],
   "source": [
    "dataFrame.info()"
   ]
  },
  {
   "cell_type": "code",
   "execution_count": 37,
   "metadata": {},
   "outputs": [
    {
     "data": {
      "text/html": [
       "<div>\n",
       "<style scoped>\n",
       "    .dataframe tbody tr th:only-of-type {\n",
       "        vertical-align: middle;\n",
       "    }\n",
       "\n",
       "    .dataframe tbody tr th {\n",
       "        vertical-align: top;\n",
       "    }\n",
       "\n",
       "    .dataframe thead th {\n",
       "        text-align: right;\n",
       "    }\n",
       "</style>\n",
       "<table border=\"1\" class=\"dataframe\">\n",
       "  <thead>\n",
       "    <tr style=\"text-align: right;\">\n",
       "      <th></th>\n",
       "      <th>local_goals</th>\n",
       "      <th>visitor_goals</th>\n",
       "    </tr>\n",
       "  </thead>\n",
       "  <tbody>\n",
       "    <tr>\n",
       "      <th>count</th>\n",
       "      <td>936.000000</td>\n",
       "      <td>936.000000</td>\n",
       "    </tr>\n",
       "    <tr>\n",
       "      <th>mean</th>\n",
       "      <td>1.477564</td>\n",
       "      <td>1.195513</td>\n",
       "    </tr>\n",
       "    <tr>\n",
       "      <th>std</th>\n",
       "      <td>1.259628</td>\n",
       "      <td>1.115386</td>\n",
       "    </tr>\n",
       "    <tr>\n",
       "      <th>min</th>\n",
       "      <td>0.000000</td>\n",
       "      <td>0.000000</td>\n",
       "    </tr>\n",
       "    <tr>\n",
       "      <th>25%</th>\n",
       "      <td>1.000000</td>\n",
       "      <td>0.000000</td>\n",
       "    </tr>\n",
       "    <tr>\n",
       "      <th>50%</th>\n",
       "      <td>1.000000</td>\n",
       "      <td>1.000000</td>\n",
       "    </tr>\n",
       "    <tr>\n",
       "      <th>75%</th>\n",
       "      <td>2.000000</td>\n",
       "      <td>2.000000</td>\n",
       "    </tr>\n",
       "    <tr>\n",
       "      <th>max</th>\n",
       "      <td>7.000000</td>\n",
       "      <td>6.000000</td>\n",
       "    </tr>\n",
       "  </tbody>\n",
       "</table>\n",
       "</div>"
      ],
      "text/plain": [
       "       local_goals  visitor_goals\n",
       "count   936.000000     936.000000\n",
       "mean      1.477564       1.195513\n",
       "std       1.259628       1.115386\n",
       "min       0.000000       0.000000\n",
       "25%       1.000000       0.000000\n",
       "50%       1.000000       1.000000\n",
       "75%       2.000000       2.000000\n",
       "max       7.000000       6.000000"
      ]
     },
     "execution_count": 37,
     "metadata": {},
     "output_type": "execute_result"
    }
   ],
   "source": [
    "# la funcion describe nos permite ver los datos de la tabla y sus estadisticas\n",
    "\n",
    "dataFrame.describe()"
   ]
  },
  {
   "cell_type": "code",
   "execution_count": 38,
   "metadata": {},
   "outputs": [
    {
     "data": {
      "text/html": [
       "<div>\n",
       "<style scoped>\n",
       "    .dataframe tbody tr th:only-of-type {\n",
       "        vertical-align: middle;\n",
       "    }\n",
       "\n",
       "    .dataframe tbody tr th {\n",
       "        vertical-align: top;\n",
       "    }\n",
       "\n",
       "    .dataframe thead th {\n",
       "        text-align: right;\n",
       "    }\n",
       "</style>\n",
       "<table border=\"1\" class=\"dataframe\">\n",
       "  <thead>\n",
       "    <tr style=\"text-align: right;\">\n",
       "      <th></th>\n",
       "      <th>count</th>\n",
       "      <th>mean</th>\n",
       "      <th>std</th>\n",
       "      <th>min</th>\n",
       "      <th>25%</th>\n",
       "      <th>50%</th>\n",
       "      <th>75%</th>\n",
       "      <th>max</th>\n",
       "    </tr>\n",
       "  </thead>\n",
       "  <tbody>\n",
       "    <tr>\n",
       "      <th>local_goals</th>\n",
       "      <td>936.0</td>\n",
       "      <td>1.477564</td>\n",
       "      <td>1.259628</td>\n",
       "      <td>0.0</td>\n",
       "      <td>1.0</td>\n",
       "      <td>1.0</td>\n",
       "      <td>2.0</td>\n",
       "      <td>7.0</td>\n",
       "    </tr>\n",
       "    <tr>\n",
       "      <th>visitor_goals</th>\n",
       "      <td>936.0</td>\n",
       "      <td>1.195513</td>\n",
       "      <td>1.115386</td>\n",
       "      <td>0.0</td>\n",
       "      <td>0.0</td>\n",
       "      <td>1.0</td>\n",
       "      <td>2.0</td>\n",
       "      <td>6.0</td>\n",
       "    </tr>\n",
       "  </tbody>\n",
       "</table>\n",
       "</div>"
      ],
      "text/plain": [
       "               count      mean       std  min  25%  50%  75%  max\n",
       "local_goals    936.0  1.477564  1.259628  0.0  1.0  1.0  2.0  7.0\n",
       "visitor_goals  936.0  1.195513  1.115386  0.0  0.0  1.0  2.0  6.0"
      ]
     },
     "execution_count": 38,
     "metadata": {},
     "output_type": "execute_result"
    }
   ],
   "source": [
    "df.describe().T"
   ]
  },
  {
   "cell_type": "markdown",
   "metadata": {},
   "source": [
    "# separamos en x e y"
   ]
  },
  {
   "cell_type": "code",
   "execution_count": 39,
   "metadata": {},
   "outputs": [
    {
     "name": "stdout",
     "output_type": "stream",
     "text": [
      "Index(['local_goals', 'local_name', 'match', 'visitor_goals', 'visitor_name'], dtype='object')\n"
     ]
    }
   ],
   "source": [
    "# listamos las columnas\n",
    "print(dataFrame.columns)"
   ]
  },
  {
   "cell_type": "code",
   "execution_count": 40,
   "metadata": {},
   "outputs": [
    {
     "data": {
      "text/html": [
       "<div>\n",
       "<style scoped>\n",
       "    .dataframe tbody tr th:only-of-type {\n",
       "        vertical-align: middle;\n",
       "    }\n",
       "\n",
       "    .dataframe tbody tr th {\n",
       "        vertical-align: top;\n",
       "    }\n",
       "\n",
       "    .dataframe thead th {\n",
       "        text-align: right;\n",
       "    }\n",
       "</style>\n",
       "<table border=\"1\" class=\"dataframe\">\n",
       "  <thead>\n",
       "    <tr style=\"text-align: right;\">\n",
       "      <th></th>\n",
       "      <th>local_goals</th>\n",
       "      <th>local_name</th>\n",
       "      <th>match</th>\n",
       "      <th>visitor_goals</th>\n",
       "      <th>visitor_name</th>\n",
       "    </tr>\n",
       "  </thead>\n",
       "  <tbody>\n",
       "    <tr>\n",
       "      <th>0</th>\n",
       "      <td>0</td>\n",
       "      <td>Colon</td>\n",
       "      <td>Superliga 2018/19 - Fecha 4</td>\n",
       "      <td>0</td>\n",
       "      <td>Union</td>\n",
       "    </tr>\n",
       "    <tr>\n",
       "      <th>1</th>\n",
       "      <td>1</td>\n",
       "      <td>Union</td>\n",
       "      <td>Superliga 2017/18 - Fecha 17</td>\n",
       "      <td>1</td>\n",
       "      <td>Colon</td>\n",
       "    </tr>\n",
       "    <tr>\n",
       "      <th>2</th>\n",
       "      <td>1</td>\n",
       "      <td>Colon</td>\n",
       "      <td>Campeonato 2016/17 - Fecha 24</td>\n",
       "      <td>1</td>\n",
       "      <td>Union</td>\n",
       "    </tr>\n",
       "    <tr>\n",
       "      <th>3</th>\n",
       "      <td>0</td>\n",
       "      <td>Union</td>\n",
       "      <td>Campeonato 2016/17 - Fecha 16</td>\n",
       "      <td>2</td>\n",
       "      <td>Colon</td>\n",
       "    </tr>\n",
       "    <tr>\n",
       "      <th>4</th>\n",
       "      <td>1</td>\n",
       "      <td>Union</td>\n",
       "      <td>Torneo 2016 - Fecha 12</td>\n",
       "      <td>0</td>\n",
       "      <td>Colon</td>\n",
       "    </tr>\n",
       "  </tbody>\n",
       "</table>\n",
       "</div>"
      ],
      "text/plain": [
       "   local_goals local_name                          match  visitor_goals  \\\n",
       "0            0      Colon    Superliga 2018/19 - Fecha 4              0   \n",
       "1            1      Union   Superliga 2017/18 - Fecha 17              1   \n",
       "2            1      Colon  Campeonato 2016/17 - Fecha 24              1   \n",
       "3            0      Union  Campeonato 2016/17 - Fecha 16              2   \n",
       "4            1      Union         Torneo 2016 - Fecha 12              0   \n",
       "\n",
       "  visitor_name  \n",
       "0        Union  \n",
       "1        Colon  \n",
       "2        Union  \n",
       "3        Colon  \n",
       "4        Colon  "
      ]
     },
     "execution_count": 40,
     "metadata": {},
     "output_type": "execute_result"
    }
   ],
   "source": [
    "dataFrame.head(5)"
   ]
  },
  {
   "cell_type": "code",
   "execution_count": 41,
   "metadata": {},
   "outputs": [],
   "source": [
    "x = dataFrame.drop('local_goals',axis=1) #eliminamos la variable a predecir\n",
    "y = dataFrame.local_goals"
   ]
  },
  {
   "cell_type": "code",
   "execution_count": null,
   "metadata": {},
   "outputs": [],
   "source": []
  }
 ],
 "metadata": {
  "kernelspec": {
   "display_name": "Python 3",
   "language": "python",
   "name": "python3"
  },
  "language_info": {
   "codemirror_mode": {
    "name": "ipython",
    "version": 3
   },
   "file_extension": ".py",
   "mimetype": "text/x-python",
   "name": "python",
   "nbconvert_exporter": "python",
   "pygments_lexer": "ipython3",
   "version": "3.10.12"
  },
  "orig_nbformat": 4
 },
 "nbformat": 4,
 "nbformat_minor": 2
}
