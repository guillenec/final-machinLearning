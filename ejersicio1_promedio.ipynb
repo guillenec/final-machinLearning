{
 "cells": [
  {
   "cell_type": "markdown",
   "metadata": {},
   "source": [
    "**<span style=\"color:#80FF00\">calcula sueldo promedio</span>**"
   ]
  },
  {
   "cell_type": "code",
   "execution_count": 4,
   "metadata": {},
   "outputs": [],
   "source": [
    "# El empleado llamado Juan cobró 300 dólares por mes desde enero a junio, 500 dólares de\n",
    "# julio a octubre, y 700 dólares por mes en noviembre y en diciembre.\n",
    "# En base al escenario propuesto, se le solicita a los estudiantes que creen un pequeño\n",
    "# programa que calcule el sueldo promedio del empleado Juan. Además, se debe indicar sí\n",
    "# Juan se encuentra cobrando un sueldo bajo, normal o mejor de lo normal, considerando las\n",
    "# siguientes pautas:\n",
    "# a. Sueldo bajo: por debajo de 300 dólares.\n",
    "# b. Sueldo normal: entre 300 a 900.\n",
    "# c. Sueldo mejor de lo normal: más de 900 dólares.\n",
    "# Tip: se debe utilizar estructuras condicionales. \n",
    "\n",
    "def promedioSueldo(semestreSueldo,sueldoCuatrimestre,sueldoBimestre):\n",
    "    sueldoPromedio = (int(semestreSueldo) + int(sueldoCuatrimestre) + (sueldoBimestre))/12\n",
    "    if sueldoPromedio < 300:\n",
    "        return(\"Sueldo bajo\")\n",
    "    elif 300 <= sueldoPromedio < 900:\n",
    "        return(\"Sueldo normal\")\n",
    "    else:\n",
    "        return(\"Sueldo mejor de lo normal\")"
   ]
  },
  {
   "cell_type": "code",
   "execution_count": 9,
   "metadata": {},
   "outputs": [
    {
     "name": "stdout",
     "output_type": "stream",
     "text": [
      "Sueldo normal\n"
     ]
    }
   ],
   "source": [
    "print(promedioSueldo(3000,700,500))"
   ]
  }
 ],
 "metadata": {
  "kernelspec": {
   "display_name": "Python 3",
   "language": "python",
   "name": "python3"
  },
  "language_info": {
   "codemirror_mode": {
    "name": "ipython",
    "version": 3
   },
   "file_extension": ".py",
   "mimetype": "text/x-python",
   "name": "python",
   "nbconvert_exporter": "python",
   "pygments_lexer": "ipython3",
   "version": "3.10.12"
  },
  "orig_nbformat": 4
 },
 "nbformat": 4,
 "nbformat_minor": 2
}
